{
 "cells": [
  {
   "cell_type": "markdown",
   "id": "edbb2c95",
   "metadata": {},
   "source": [
    "<h1>Country Safety Index Building<h1>"
   ]
  }
 ],
 "metadata": {
  "language_info": {
   "name": "python"
  }
 },
 "nbformat": 4,
 "nbformat_minor": 5
}
